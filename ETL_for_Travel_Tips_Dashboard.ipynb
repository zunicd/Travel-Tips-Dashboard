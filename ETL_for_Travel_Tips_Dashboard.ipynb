{
 "cells": [
  {
   "cell_type": "markdown",
   "metadata": {},
   "source": [
    "# ETL for Travel Tips Dashboard"
   ]
  },
  {
   "cell_type": "markdown",
   "metadata": {},
   "source": [
    "**Data Source:**  [Visual Crossing Corporation](https://www.visualcrossing.com/)\n",
    "\n",
    "\n",
    "* Historical weather data was downloaded for five chosen cities plus Indianapolis for years 2010 - 2019 inclusive.   \n",
    "* Due to limitation to the number of results per query, we downloaded data to 4 CSV files.\n",
    "* The files were loaded to Pandas dataframe and then joined.\n",
    "* We removed not needed columns and sorted dataframe per location and date in ascending order.\n",
    "* The index was named so it could be used as a primary key in a database table.\n",
    "* **Pandabase** was used to create SQLite database from our dataframe.\n",
    "* We checked the database with SQLAlchemy by running several queries.\n"
   ]
  },
  {
   "cell_type": "markdown",
   "metadata": {},
   "source": [
    "#### Import Dependencies"
   ]
  },
  {
   "cell_type": "code",
   "execution_count": 1,
   "metadata": {},
   "outputs": [],
   "source": [
    "import pandas as pd\n",
    "import pandabase\n",
    "import numpy as np\n",
    "from pandas import read_csv\n",
    "import datetime as dt"
   ]
  },
  {
   "cell_type": "markdown",
   "metadata": {},
   "source": [
    "#### Read csv files"
   ]
  },
  {
   "cell_type": "markdown",
   "metadata": {},
   "source": [
    "Files **df1**, **df2**, **df3** are for all 5 below listed cities for the stated range of years:\n",
    "\n",
    "Chicago  \n",
    "Las Vegas  \n",
    "Los Angeles  \n",
    "New York City  \n",
    "Washington\n",
    "\n",
    "The file **df4** is for Indianapolis, for all 10 years."
   ]
  },
  {
   "cell_type": "code",
   "execution_count": 2,
   "metadata": {},
   "outputs": [],
   "source": [
    "df1 = read_csv(\"./Resources/history_data_10-13.csv\", encoding=\"ISO-8859-1\")\n",
    "df2 = read_csv(\"./Resources/history_data_14-17.csv\", encoding=\"ISO-8859-1\")\n",
    "df3 = read_csv(\"./Resources/history_data_18-19.csv\", encoding=\"ISO-8859-1\")\n",
    "df4 = read_csv(\"./Resources/history_data_Indy_10-19.csv\", encoding=\"ISO-8859-1\")"
   ]
  },
  {
   "cell_type": "code",
   "execution_count": 3,
   "metadata": {},
   "outputs": [
    {
     "name": "stdout",
     "output_type": "stream",
     "text": [
      "(7305, 16)\n"
     ]
    },
    {
     "data": {
      "text/html": [
       "<div>\n",
       "<style scoped>\n",
       "    .dataframe tbody tr th:only-of-type {\n",
       "        vertical-align: middle;\n",
       "    }\n",
       "\n",
       "    .dataframe tbody tr th {\n",
       "        vertical-align: top;\n",
       "    }\n",
       "\n",
       "    .dataframe thead th {\n",
       "        text-align: right;\n",
       "    }\n",
       "</style>\n",
       "<table border=\"1\" class=\"dataframe\">\n",
       "  <thead>\n",
       "    <tr style=\"text-align: right;\">\n",
       "      <th></th>\n",
       "      <th>Location</th>\n",
       "      <th>Address</th>\n",
       "      <th>Resolved Address</th>\n",
       "      <th>Date time</th>\n",
       "      <th>Maximum Temperature</th>\n",
       "      <th>Minimum Temperature</th>\n",
       "      <th>Temperature</th>\n",
       "      <th>Wind Chill</th>\n",
       "      <th>Heat Index</th>\n",
       "      <th>Precipitation</th>\n",
       "      <th>Snow Depth</th>\n",
       "      <th>Wind Speed</th>\n",
       "      <th>Wind Gust</th>\n",
       "      <th>Cloud Cover</th>\n",
       "      <th>Relative Humidity</th>\n",
       "      <th>Conditions</th>\n",
       "    </tr>\n",
       "  </thead>\n",
       "  <tbody>\n",
       "    <tr>\n",
       "      <th>0</th>\n",
       "      <td>Chicago</td>\n",
       "      <td>Chicago, IL, US</td>\n",
       "      <td>NaN</td>\n",
       "      <td>2010-01-01</td>\n",
       "      <td>18.1</td>\n",
       "      <td>7.8</td>\n",
       "      <td>12.6</td>\n",
       "      <td>-7.3</td>\n",
       "      <td>NaN</td>\n",
       "      <td>0.0</td>\n",
       "      <td>2.0</td>\n",
       "      <td>16.0</td>\n",
       "      <td>NaN</td>\n",
       "      <td>262.4</td>\n",
       "      <td>64.96</td>\n",
       "      <td>Snow, Overcast</td>\n",
       "    </tr>\n",
       "    <tr>\n",
       "      <th>1</th>\n",
       "      <td>Chicago</td>\n",
       "      <td>Chicago, IL, US</td>\n",
       "      <td>NaN</td>\n",
       "      <td>2010-01-02</td>\n",
       "      <td>12.4</td>\n",
       "      <td>4.8</td>\n",
       "      <td>8.5</td>\n",
       "      <td>-11.5</td>\n",
       "      <td>NaN</td>\n",
       "      <td>0.0</td>\n",
       "      <td>2.0</td>\n",
       "      <td>17.5</td>\n",
       "      <td>NaN</td>\n",
       "      <td>260.0</td>\n",
       "      <td>58.81</td>\n",
       "      <td>Snow, Overcast</td>\n",
       "    </tr>\n",
       "  </tbody>\n",
       "</table>\n",
       "</div>"
      ],
      "text/plain": [
       "  Location          Address  Resolved Address   Date time  \\\n",
       "0  Chicago  Chicago, IL, US               NaN  2010-01-01   \n",
       "1  Chicago  Chicago, IL, US               NaN  2010-01-02   \n",
       "\n",
       "   Maximum Temperature  Minimum Temperature  Temperature  Wind Chill  \\\n",
       "0                 18.1                  7.8         12.6        -7.3   \n",
       "1                 12.4                  4.8          8.5       -11.5   \n",
       "\n",
       "   Heat Index  Precipitation  Snow Depth  Wind Speed  Wind Gust  Cloud Cover  \\\n",
       "0         NaN            0.0         2.0        16.0        NaN        262.4   \n",
       "1         NaN            0.0         2.0        17.5        NaN        260.0   \n",
       "\n",
       "   Relative Humidity      Conditions  \n",
       "0              64.96  Snow, Overcast  \n",
       "1              58.81  Snow, Overcast  "
      ]
     },
     "execution_count": 3,
     "metadata": {},
     "output_type": "execute_result"
    }
   ],
   "source": [
    "print(df1.shape)\n",
    "df1.head(2)"
   ]
  },
  {
   "cell_type": "code",
   "execution_count": 4,
   "metadata": {},
   "outputs": [
    {
     "name": "stdout",
     "output_type": "stream",
     "text": [
      "(7305, 16)\n"
     ]
    },
    {
     "data": {
      "text/html": [
       "<div>\n",
       "<style scoped>\n",
       "    .dataframe tbody tr th:only-of-type {\n",
       "        vertical-align: middle;\n",
       "    }\n",
       "\n",
       "    .dataframe tbody tr th {\n",
       "        vertical-align: top;\n",
       "    }\n",
       "\n",
       "    .dataframe thead th {\n",
       "        text-align: right;\n",
       "    }\n",
       "</style>\n",
       "<table border=\"1\" class=\"dataframe\">\n",
       "  <thead>\n",
       "    <tr style=\"text-align: right;\">\n",
       "      <th></th>\n",
       "      <th>Location</th>\n",
       "      <th>Address</th>\n",
       "      <th>Resolved Address</th>\n",
       "      <th>Date time</th>\n",
       "      <th>Maximum Temperature</th>\n",
       "      <th>Minimum Temperature</th>\n",
       "      <th>Temperature</th>\n",
       "      <th>Wind Chill</th>\n",
       "      <th>Heat Index</th>\n",
       "      <th>Precipitation</th>\n",
       "      <th>Snow Depth</th>\n",
       "      <th>Wind Speed</th>\n",
       "      <th>Wind Gust</th>\n",
       "      <th>Cloud Cover</th>\n",
       "      <th>Relative Humidity</th>\n",
       "      <th>Conditions</th>\n",
       "    </tr>\n",
       "  </thead>\n",
       "  <tbody>\n",
       "    <tr>\n",
       "      <th>0</th>\n",
       "      <td>Chicago</td>\n",
       "      <td>Chicago, IL, US</td>\n",
       "      <td>NaN</td>\n",
       "      <td>2014-01-01</td>\n",
       "      <td>22.4</td>\n",
       "      <td>12.8</td>\n",
       "      <td>19.9</td>\n",
       "      <td>1.8</td>\n",
       "      <td>NaN</td>\n",
       "      <td>0.1</td>\n",
       "      <td>3.0</td>\n",
       "      <td>16.5</td>\n",
       "      <td>NaN</td>\n",
       "      <td>90.9</td>\n",
       "      <td>82.97</td>\n",
       "      <td>Snow, Overcast</td>\n",
       "    </tr>\n",
       "    <tr>\n",
       "      <th>1</th>\n",
       "      <td>Chicago</td>\n",
       "      <td>Chicago, IL, US</td>\n",
       "      <td>NaN</td>\n",
       "      <td>2014-01-02</td>\n",
       "      <td>21.7</td>\n",
       "      <td>5.1</td>\n",
       "      <td>16.3</td>\n",
       "      <td>-10.4</td>\n",
       "      <td>NaN</td>\n",
       "      <td>0.1</td>\n",
       "      <td>7.2</td>\n",
       "      <td>19.0</td>\n",
       "      <td>31.1</td>\n",
       "      <td>70.3</td>\n",
       "      <td>76.11</td>\n",
       "      <td>Snow, Partially cloudy</td>\n",
       "    </tr>\n",
       "  </tbody>\n",
       "</table>\n",
       "</div>"
      ],
      "text/plain": [
       "  Location          Address  Resolved Address   Date time  \\\n",
       "0  Chicago  Chicago, IL, US               NaN  2014-01-01   \n",
       "1  Chicago  Chicago, IL, US               NaN  2014-01-02   \n",
       "\n",
       "   Maximum Temperature  Minimum Temperature  Temperature  Wind Chill  \\\n",
       "0                 22.4                 12.8         19.9         1.8   \n",
       "1                 21.7                  5.1         16.3       -10.4   \n",
       "\n",
       "   Heat Index  Precipitation  Snow Depth  Wind Speed  Wind Gust  Cloud Cover  \\\n",
       "0         NaN            0.1         3.0        16.5        NaN         90.9   \n",
       "1         NaN            0.1         7.2        19.0       31.1         70.3   \n",
       "\n",
       "   Relative Humidity              Conditions  \n",
       "0              82.97          Snow, Overcast  \n",
       "1              76.11  Snow, Partially cloudy  "
      ]
     },
     "execution_count": 4,
     "metadata": {},
     "output_type": "execute_result"
    }
   ],
   "source": [
    "print(df2.shape)\n",
    "df2.head(2)"
   ]
  },
  {
   "cell_type": "code",
   "execution_count": 5,
   "metadata": {},
   "outputs": [
    {
     "name": "stdout",
     "output_type": "stream",
     "text": [
      "(3650, 16)\n"
     ]
    },
    {
     "data": {
      "text/html": [
       "<div>\n",
       "<style scoped>\n",
       "    .dataframe tbody tr th:only-of-type {\n",
       "        vertical-align: middle;\n",
       "    }\n",
       "\n",
       "    .dataframe tbody tr th {\n",
       "        vertical-align: top;\n",
       "    }\n",
       "\n",
       "    .dataframe thead th {\n",
       "        text-align: right;\n",
       "    }\n",
       "</style>\n",
       "<table border=\"1\" class=\"dataframe\">\n",
       "  <thead>\n",
       "    <tr style=\"text-align: right;\">\n",
       "      <th></th>\n",
       "      <th>Location</th>\n",
       "      <th>Address</th>\n",
       "      <th>Resolved Address</th>\n",
       "      <th>Date time</th>\n",
       "      <th>Maximum Temperature</th>\n",
       "      <th>Minimum Temperature</th>\n",
       "      <th>Temperature</th>\n",
       "      <th>Wind Chill</th>\n",
       "      <th>Heat Index</th>\n",
       "      <th>Precipitation</th>\n",
       "      <th>Snow Depth</th>\n",
       "      <th>Wind Speed</th>\n",
       "      <th>Wind Gust</th>\n",
       "      <th>Cloud Cover</th>\n",
       "      <th>Relative Humidity</th>\n",
       "      <th>Conditions</th>\n",
       "    </tr>\n",
       "  </thead>\n",
       "  <tbody>\n",
       "    <tr>\n",
       "      <th>0</th>\n",
       "      <td>Chicago</td>\n",
       "      <td>Chicago, IL, US</td>\n",
       "      <td>NaN</td>\n",
       "      <td>2018-01-01</td>\n",
       "      <td>4.7</td>\n",
       "      <td>-5.2</td>\n",
       "      <td>-1.0</td>\n",
       "      <td>-28.0</td>\n",
       "      <td>NaN</td>\n",
       "      <td>0.0</td>\n",
       "      <td>2.0</td>\n",
       "      <td>25.4</td>\n",
       "      <td>19.7</td>\n",
       "      <td>0.6</td>\n",
       "      <td>63.31</td>\n",
       "      <td>Snow, Clear</td>\n",
       "    </tr>\n",
       "    <tr>\n",
       "      <th>1</th>\n",
       "      <td>Chicago</td>\n",
       "      <td>Chicago, IL, US</td>\n",
       "      <td>NaN</td>\n",
       "      <td>2018-01-02</td>\n",
       "      <td>7.7</td>\n",
       "      <td>-6.0</td>\n",
       "      <td>0.9</td>\n",
       "      <td>-25.6</td>\n",
       "      <td>NaN</td>\n",
       "      <td>0.0</td>\n",
       "      <td>2.0</td>\n",
       "      <td>22.7</td>\n",
       "      <td>21.9</td>\n",
       "      <td>1.8</td>\n",
       "      <td>63.59</td>\n",
       "      <td>Snow, Clear</td>\n",
       "    </tr>\n",
       "  </tbody>\n",
       "</table>\n",
       "</div>"
      ],
      "text/plain": [
       "  Location          Address  Resolved Address   Date time  \\\n",
       "0  Chicago  Chicago, IL, US               NaN  2018-01-01   \n",
       "1  Chicago  Chicago, IL, US               NaN  2018-01-02   \n",
       "\n",
       "   Maximum Temperature  Minimum Temperature  Temperature  Wind Chill  \\\n",
       "0                  4.7                 -5.2         -1.0       -28.0   \n",
       "1                  7.7                 -6.0          0.9       -25.6   \n",
       "\n",
       "   Heat Index  Precipitation  Snow Depth  Wind Speed  Wind Gust  Cloud Cover  \\\n",
       "0         NaN            0.0         2.0        25.4       19.7          0.6   \n",
       "1         NaN            0.0         2.0        22.7       21.9          1.8   \n",
       "\n",
       "   Relative Humidity   Conditions  \n",
       "0              63.31  Snow, Clear  \n",
       "1              63.59  Snow, Clear  "
      ]
     },
     "execution_count": 5,
     "metadata": {},
     "output_type": "execute_result"
    }
   ],
   "source": [
    "print(df3.shape)\n",
    "df3.head(2)"
   ]
  },
  {
   "cell_type": "code",
   "execution_count": 6,
   "metadata": {},
   "outputs": [
    {
     "name": "stdout",
     "output_type": "stream",
     "text": [
      "(3652, 16)\n"
     ]
    },
    {
     "data": {
      "text/html": [
       "<div>\n",
       "<style scoped>\n",
       "    .dataframe tbody tr th:only-of-type {\n",
       "        vertical-align: middle;\n",
       "    }\n",
       "\n",
       "    .dataframe tbody tr th {\n",
       "        vertical-align: top;\n",
       "    }\n",
       "\n",
       "    .dataframe thead th {\n",
       "        text-align: right;\n",
       "    }\n",
       "</style>\n",
       "<table border=\"1\" class=\"dataframe\">\n",
       "  <thead>\n",
       "    <tr style=\"text-align: right;\">\n",
       "      <th></th>\n",
       "      <th>Location</th>\n",
       "      <th>Address</th>\n",
       "      <th>Resolved Address</th>\n",
       "      <th>Date time</th>\n",
       "      <th>Maximum Temperature</th>\n",
       "      <th>Minimum Temperature</th>\n",
       "      <th>Temperature</th>\n",
       "      <th>Wind Chill</th>\n",
       "      <th>Heat Index</th>\n",
       "      <th>Precipitation</th>\n",
       "      <th>Snow Depth</th>\n",
       "      <th>Wind Speed</th>\n",
       "      <th>Wind Gust</th>\n",
       "      <th>Cloud Cover</th>\n",
       "      <th>Relative Humidity</th>\n",
       "      <th>Conditions</th>\n",
       "    </tr>\n",
       "  </thead>\n",
       "  <tbody>\n",
       "    <tr>\n",
       "      <th>0</th>\n",
       "      <td>Indianapolis</td>\n",
       "      <td>Indianapolis, IN, US</td>\n",
       "      <td>NaN</td>\n",
       "      <td>2010-01-01</td>\n",
       "      <td>18.6</td>\n",
       "      <td>8.9</td>\n",
       "      <td>13.5</td>\n",
       "      <td>-5.2</td>\n",
       "      <td>NaN</td>\n",
       "      <td>0.0</td>\n",
       "      <td>NaN</td>\n",
       "      <td>16.1</td>\n",
       "      <td>NaN</td>\n",
       "      <td>42.6</td>\n",
       "      <td>71.55</td>\n",
       "      <td>Partially cloudy</td>\n",
       "    </tr>\n",
       "    <tr>\n",
       "      <th>1</th>\n",
       "      <td>Indianapolis</td>\n",
       "      <td>Indianapolis, IN, US</td>\n",
       "      <td>NaN</td>\n",
       "      <td>2010-01-02</td>\n",
       "      <td>16.6</td>\n",
       "      <td>2.0</td>\n",
       "      <td>9.8</td>\n",
       "      <td>-12.2</td>\n",
       "      <td>NaN</td>\n",
       "      <td>0.0</td>\n",
       "      <td>NaN</td>\n",
       "      <td>17.9</td>\n",
       "      <td>NaN</td>\n",
       "      <td>36.9</td>\n",
       "      <td>70.72</td>\n",
       "      <td>Partially cloudy</td>\n",
       "    </tr>\n",
       "  </tbody>\n",
       "</table>\n",
       "</div>"
      ],
      "text/plain": [
       "       Location               Address  Resolved Address   Date time  \\\n",
       "0  Indianapolis  Indianapolis, IN, US               NaN  2010-01-01   \n",
       "1  Indianapolis  Indianapolis, IN, US               NaN  2010-01-02   \n",
       "\n",
       "   Maximum Temperature  Minimum Temperature  Temperature  Wind Chill  \\\n",
       "0                 18.6                  8.9         13.5        -5.2   \n",
       "1                 16.6                  2.0          9.8       -12.2   \n",
       "\n",
       "   Heat Index  Precipitation  Snow Depth  Wind Speed  Wind Gust  Cloud Cover  \\\n",
       "0         NaN            0.0         NaN        16.1        NaN         42.6   \n",
       "1         NaN            0.0         NaN        17.9        NaN         36.9   \n",
       "\n",
       "   Relative Humidity        Conditions  \n",
       "0              71.55  Partially cloudy  \n",
       "1              70.72  Partially cloudy  "
      ]
     },
     "execution_count": 6,
     "metadata": {},
     "output_type": "execute_result"
    }
   ],
   "source": [
    "print(df4.shape)\n",
    "df4.head(2)"
   ]
  },
  {
   "cell_type": "code",
   "execution_count": 7,
   "metadata": {
    "scrolled": true
   },
   "outputs": [
    {
     "name": "stdout",
     "output_type": "stream",
     "text": [
      "(21912, 16)\n"
     ]
    },
    {
     "data": {
      "text/html": [
       "<div>\n",
       "<style scoped>\n",
       "    .dataframe tbody tr th:only-of-type {\n",
       "        vertical-align: middle;\n",
       "    }\n",
       "\n",
       "    .dataframe tbody tr th {\n",
       "        vertical-align: top;\n",
       "    }\n",
       "\n",
       "    .dataframe thead th {\n",
       "        text-align: right;\n",
       "    }\n",
       "</style>\n",
       "<table border=\"1\" class=\"dataframe\">\n",
       "  <thead>\n",
       "    <tr style=\"text-align: right;\">\n",
       "      <th></th>\n",
       "      <th>Location</th>\n",
       "      <th>Address</th>\n",
       "      <th>Resolved Address</th>\n",
       "      <th>Date time</th>\n",
       "      <th>Maximum Temperature</th>\n",
       "      <th>Minimum Temperature</th>\n",
       "      <th>Temperature</th>\n",
       "      <th>Wind Chill</th>\n",
       "      <th>Heat Index</th>\n",
       "      <th>Precipitation</th>\n",
       "      <th>Snow Depth</th>\n",
       "      <th>Wind Speed</th>\n",
       "      <th>Wind Gust</th>\n",
       "      <th>Cloud Cover</th>\n",
       "      <th>Relative Humidity</th>\n",
       "      <th>Conditions</th>\n",
       "    </tr>\n",
       "  </thead>\n",
       "  <tbody>\n",
       "    <tr>\n",
       "      <th>0</th>\n",
       "      <td>Chicago</td>\n",
       "      <td>Chicago, IL, US</td>\n",
       "      <td>NaN</td>\n",
       "      <td>2010-01-01</td>\n",
       "      <td>18.1</td>\n",
       "      <td>7.8</td>\n",
       "      <td>12.6</td>\n",
       "      <td>-7.3</td>\n",
       "      <td>NaN</td>\n",
       "      <td>0.0</td>\n",
       "      <td>2.0</td>\n",
       "      <td>16.0</td>\n",
       "      <td>NaN</td>\n",
       "      <td>262.4</td>\n",
       "      <td>64.96</td>\n",
       "      <td>Snow, Overcast</td>\n",
       "    </tr>\n",
       "    <tr>\n",
       "      <th>1</th>\n",
       "      <td>Chicago</td>\n",
       "      <td>Chicago, IL, US</td>\n",
       "      <td>NaN</td>\n",
       "      <td>2010-01-02</td>\n",
       "      <td>12.4</td>\n",
       "      <td>4.8</td>\n",
       "      <td>8.5</td>\n",
       "      <td>-11.5</td>\n",
       "      <td>NaN</td>\n",
       "      <td>0.0</td>\n",
       "      <td>2.0</td>\n",
       "      <td>17.5</td>\n",
       "      <td>NaN</td>\n",
       "      <td>260.0</td>\n",
       "      <td>58.81</td>\n",
       "      <td>Snow, Overcast</td>\n",
       "    </tr>\n",
       "  </tbody>\n",
       "</table>\n",
       "</div>"
      ],
      "text/plain": [
       "  Location          Address  Resolved Address   Date time  \\\n",
       "0  Chicago  Chicago, IL, US               NaN  2010-01-01   \n",
       "1  Chicago  Chicago, IL, US               NaN  2010-01-02   \n",
       "\n",
       "   Maximum Temperature  Minimum Temperature  Temperature  Wind Chill  \\\n",
       "0                 18.1                  7.8         12.6        -7.3   \n",
       "1                 12.4                  4.8          8.5       -11.5   \n",
       "\n",
       "   Heat Index  Precipitation  Snow Depth  Wind Speed  Wind Gust  Cloud Cover  \\\n",
       "0         NaN            0.0         2.0        16.0        NaN        262.4   \n",
       "1         NaN            0.0         2.0        17.5        NaN        260.0   \n",
       "\n",
       "   Relative Humidity      Conditions  \n",
       "0              64.96  Snow, Overcast  \n",
       "1              58.81  Snow, Overcast  "
      ]
     },
     "execution_count": 7,
     "metadata": {},
     "output_type": "execute_result"
    }
   ],
   "source": [
    "# Join dataframes\n",
    "df = pd.concat([df1, df2, df3, df4]).reset_index(drop=True)\n",
    "print(df.shape)\n",
    "df.head(2)"
   ]
  },
  {
   "cell_type": "markdown",
   "metadata": {},
   "source": [
    "#### Work with Columns"
   ]
  },
  {
   "cell_type": "code",
   "execution_count": 8,
   "metadata": {},
   "outputs": [
    {
     "data": {
      "text/html": [
       "<div>\n",
       "<style scoped>\n",
       "    .dataframe tbody tr th:only-of-type {\n",
       "        vertical-align: middle;\n",
       "    }\n",
       "\n",
       "    .dataframe tbody tr th {\n",
       "        vertical-align: top;\n",
       "    }\n",
       "\n",
       "    .dataframe thead th {\n",
       "        text-align: right;\n",
       "    }\n",
       "</style>\n",
       "<table border=\"1\" class=\"dataframe\">\n",
       "  <thead>\n",
       "    <tr style=\"text-align: right;\">\n",
       "      <th></th>\n",
       "      <th>location</th>\n",
       "      <th>address</th>\n",
       "      <th>resolvedAddress</th>\n",
       "      <th>date</th>\n",
       "      <th>maxt</th>\n",
       "      <th>mint</th>\n",
       "      <th>temp</th>\n",
       "      <th>windchill</th>\n",
       "      <th>heatindex</th>\n",
       "      <th>precip</th>\n",
       "      <th>snowdepth</th>\n",
       "      <th>wspd</th>\n",
       "      <th>wgust</th>\n",
       "      <th>cloudcover</th>\n",
       "      <th>humidity</th>\n",
       "      <th>conditions</th>\n",
       "    </tr>\n",
       "  </thead>\n",
       "  <tbody>\n",
       "    <tr>\n",
       "      <th>0</th>\n",
       "      <td>Chicago</td>\n",
       "      <td>Chicago, IL, US</td>\n",
       "      <td>NaN</td>\n",
       "      <td>2010-01-01</td>\n",
       "      <td>18.1</td>\n",
       "      <td>7.8</td>\n",
       "      <td>12.6</td>\n",
       "      <td>-7.3</td>\n",
       "      <td>NaN</td>\n",
       "      <td>0.0</td>\n",
       "      <td>2.0</td>\n",
       "      <td>16.0</td>\n",
       "      <td>NaN</td>\n",
       "      <td>262.4</td>\n",
       "      <td>64.96</td>\n",
       "      <td>Snow, Overcast</td>\n",
       "    </tr>\n",
       "    <tr>\n",
       "      <th>1</th>\n",
       "      <td>Chicago</td>\n",
       "      <td>Chicago, IL, US</td>\n",
       "      <td>NaN</td>\n",
       "      <td>2010-01-02</td>\n",
       "      <td>12.4</td>\n",
       "      <td>4.8</td>\n",
       "      <td>8.5</td>\n",
       "      <td>-11.5</td>\n",
       "      <td>NaN</td>\n",
       "      <td>0.0</td>\n",
       "      <td>2.0</td>\n",
       "      <td>17.5</td>\n",
       "      <td>NaN</td>\n",
       "      <td>260.0</td>\n",
       "      <td>58.81</td>\n",
       "      <td>Snow, Overcast</td>\n",
       "    </tr>\n",
       "  </tbody>\n",
       "</table>\n",
       "</div>"
      ],
      "text/plain": [
       "  location          address  resolvedAddress        date  maxt  mint  temp  \\\n",
       "0  Chicago  Chicago, IL, US              NaN  2010-01-01  18.1   7.8  12.6   \n",
       "1  Chicago  Chicago, IL, US              NaN  2010-01-02  12.4   4.8   8.5   \n",
       "\n",
       "   windchill  heatindex  precip  snowdepth  wspd  wgust  cloudcover  humidity  \\\n",
       "0       -7.3        NaN     0.0        2.0  16.0    NaN       262.4     64.96   \n",
       "1      -11.5        NaN     0.0        2.0  17.5    NaN       260.0     58.81   \n",
       "\n",
       "       conditions  \n",
       "0  Snow, Overcast  \n",
       "1  Snow, Overcast  "
      ]
     },
     "execution_count": 8,
     "metadata": {},
     "output_type": "execute_result"
    }
   ],
   "source": [
    "# Rename columns\n",
    "df.columns = ['location', 'address', 'resolvedAddress', 'date', 'maxt', 'mint', 'temp', 'windchill', \n",
    "              'heatindex', 'precip', 'snowdepth', 'wspd', 'wgust', 'cloudcover', 'humidity', 'conditions']\n",
    "df.head(2)"
   ]
  },
  {
   "cell_type": "code",
   "execution_count": 9,
   "metadata": {},
   "outputs": [
    {
     "data": {
      "text/html": [
       "<div>\n",
       "<style scoped>\n",
       "    .dataframe tbody tr th:only-of-type {\n",
       "        vertical-align: middle;\n",
       "    }\n",
       "\n",
       "    .dataframe tbody tr th {\n",
       "        vertical-align: top;\n",
       "    }\n",
       "\n",
       "    .dataframe thead th {\n",
       "        text-align: right;\n",
       "    }\n",
       "</style>\n",
       "<table border=\"1\" class=\"dataframe\">\n",
       "  <thead>\n",
       "    <tr style=\"text-align: right;\">\n",
       "      <th></th>\n",
       "      <th>location</th>\n",
       "      <th>date</th>\n",
       "      <th>maxt</th>\n",
       "      <th>mint</th>\n",
       "      <th>temp</th>\n",
       "      <th>precip</th>\n",
       "      <th>wspd</th>\n",
       "      <th>cloudcover</th>\n",
       "      <th>humidity</th>\n",
       "    </tr>\n",
       "  </thead>\n",
       "  <tbody>\n",
       "    <tr>\n",
       "      <th>0</th>\n",
       "      <td>Chicago</td>\n",
       "      <td>2010-01-01</td>\n",
       "      <td>18.1</td>\n",
       "      <td>7.8</td>\n",
       "      <td>12.6</td>\n",
       "      <td>0.0</td>\n",
       "      <td>16.0</td>\n",
       "      <td>262.4</td>\n",
       "      <td>64.96</td>\n",
       "    </tr>\n",
       "    <tr>\n",
       "      <th>1</th>\n",
       "      <td>Chicago</td>\n",
       "      <td>2010-01-02</td>\n",
       "      <td>12.4</td>\n",
       "      <td>4.8</td>\n",
       "      <td>8.5</td>\n",
       "      <td>0.0</td>\n",
       "      <td>17.5</td>\n",
       "      <td>260.0</td>\n",
       "      <td>58.81</td>\n",
       "    </tr>\n",
       "  </tbody>\n",
       "</table>\n",
       "</div>"
      ],
      "text/plain": [
       "  location        date  maxt  mint  temp  precip  wspd  cloudcover  humidity\n",
       "0  Chicago  2010-01-01  18.1   7.8  12.6     0.0  16.0       262.4     64.96\n",
       "1  Chicago  2010-01-02  12.4   4.8   8.5     0.0  17.5       260.0     58.81"
      ]
     },
     "execution_count": 9,
     "metadata": {},
     "output_type": "execute_result"
    }
   ],
   "source": [
    "# Choose features \n",
    "df = df.iloc[:,[0, 3, 4, 5, 6, 9, 11, 13, 14]]\n",
    "df.head(2)"
   ]
  },
  {
   "cell_type": "code",
   "execution_count": 10,
   "metadata": {
    "scrolled": true
   },
   "outputs": [
    {
     "name": "stdout",
     "output_type": "stream",
     "text": [
      "<class 'pandas.core.frame.DataFrame'>\n",
      "RangeIndex: 21912 entries, 0 to 21911\n",
      "Data columns (total 9 columns):\n",
      " #   Column      Non-Null Count  Dtype  \n",
      "---  ------      --------------  -----  \n",
      " 0   location    21912 non-null  object \n",
      " 1   date        21912 non-null  object \n",
      " 2   maxt        21912 non-null  float64\n",
      " 3   mint        21912 non-null  float64\n",
      " 4   temp        21912 non-null  float64\n",
      " 5   precip      21912 non-null  float64\n",
      " 6   wspd        21912 non-null  float64\n",
      " 7   cloudcover  21912 non-null  float64\n",
      " 8   humidity    21912 non-null  float64\n",
      "dtypes: float64(7), object(2)\n",
      "memory usage: 1.5+ MB\n"
     ]
    }
   ],
   "source": [
    "df.info()"
   ]
  },
  {
   "cell_type": "code",
   "execution_count": 11,
   "metadata": {
    "scrolled": true
   },
   "outputs": [
    {
     "data": {
      "text/html": [
       "<div>\n",
       "<style scoped>\n",
       "    .dataframe tbody tr th:only-of-type {\n",
       "        vertical-align: middle;\n",
       "    }\n",
       "\n",
       "    .dataframe tbody tr th {\n",
       "        vertical-align: top;\n",
       "    }\n",
       "\n",
       "    .dataframe thead th {\n",
       "        text-align: right;\n",
       "    }\n",
       "</style>\n",
       "<table border=\"1\" class=\"dataframe\">\n",
       "  <thead>\n",
       "    <tr style=\"text-align: right;\">\n",
       "      <th></th>\n",
       "      <th>location</th>\n",
       "      <th>date</th>\n",
       "      <th>maxt</th>\n",
       "      <th>mint</th>\n",
       "      <th>temp</th>\n",
       "      <th>precip</th>\n",
       "      <th>wspd</th>\n",
       "      <th>cloudcover</th>\n",
       "      <th>humidity</th>\n",
       "    </tr>\n",
       "  </thead>\n",
       "  <tbody>\n",
       "    <tr>\n",
       "      <th>0</th>\n",
       "      <td>Chicago</td>\n",
       "      <td>2010-01-01</td>\n",
       "      <td>18.1</td>\n",
       "      <td>7.8</td>\n",
       "      <td>12.6</td>\n",
       "      <td>0.0</td>\n",
       "      <td>16.0</td>\n",
       "      <td>262.4</td>\n",
       "      <td>64.96</td>\n",
       "    </tr>\n",
       "    <tr>\n",
       "      <th>1</th>\n",
       "      <td>Chicago</td>\n",
       "      <td>2010-01-02</td>\n",
       "      <td>12.4</td>\n",
       "      <td>4.8</td>\n",
       "      <td>8.5</td>\n",
       "      <td>0.0</td>\n",
       "      <td>17.5</td>\n",
       "      <td>260.0</td>\n",
       "      <td>58.81</td>\n",
       "    </tr>\n",
       "    <tr>\n",
       "      <th>2</th>\n",
       "      <td>Chicago</td>\n",
       "      <td>2010-01-03</td>\n",
       "      <td>18.9</td>\n",
       "      <td>4.1</td>\n",
       "      <td>11.8</td>\n",
       "      <td>0.0</td>\n",
       "      <td>15.9</td>\n",
       "      <td>262.0</td>\n",
       "      <td>61.02</td>\n",
       "    </tr>\n",
       "    <tr>\n",
       "      <th>3</th>\n",
       "      <td>Chicago</td>\n",
       "      <td>2010-01-04</td>\n",
       "      <td>18.6</td>\n",
       "      <td>10.3</td>\n",
       "      <td>14.7</td>\n",
       "      <td>0.0</td>\n",
       "      <td>14.8</td>\n",
       "      <td>263.6</td>\n",
       "      <td>67.07</td>\n",
       "    </tr>\n",
       "    <tr>\n",
       "      <th>4</th>\n",
       "      <td>Chicago</td>\n",
       "      <td>2010-01-05</td>\n",
       "      <td>23.3</td>\n",
       "      <td>16.6</td>\n",
       "      <td>18.9</td>\n",
       "      <td>0.0</td>\n",
       "      <td>13.9</td>\n",
       "      <td>265.9</td>\n",
       "      <td>67.32</td>\n",
       "    </tr>\n",
       "    <tr>\n",
       "      <th>...</th>\n",
       "      <td>...</td>\n",
       "      <td>...</td>\n",
       "      <td>...</td>\n",
       "      <td>...</td>\n",
       "      <td>...</td>\n",
       "      <td>...</td>\n",
       "      <td>...</td>\n",
       "      <td>...</td>\n",
       "      <td>...</td>\n",
       "    </tr>\n",
       "    <tr>\n",
       "      <th>21907</th>\n",
       "      <td>Washington</td>\n",
       "      <td>2019-12-27</td>\n",
       "      <td>52.7</td>\n",
       "      <td>39.5</td>\n",
       "      <td>45.3</td>\n",
       "      <td>0.0</td>\n",
       "      <td>8.3</td>\n",
       "      <td>19.2</td>\n",
       "      <td>91.24</td>\n",
       "    </tr>\n",
       "    <tr>\n",
       "      <th>21908</th>\n",
       "      <td>Washington</td>\n",
       "      <td>2019-12-28</td>\n",
       "      <td>64.4</td>\n",
       "      <td>37.8</td>\n",
       "      <td>49.4</td>\n",
       "      <td>0.0</td>\n",
       "      <td>7.5</td>\n",
       "      <td>16.9</td>\n",
       "      <td>79.89</td>\n",
       "    </tr>\n",
       "    <tr>\n",
       "      <th>21909</th>\n",
       "      <td>Washington</td>\n",
       "      <td>2019-12-29</td>\n",
       "      <td>52.8</td>\n",
       "      <td>46.6</td>\n",
       "      <td>49.7</td>\n",
       "      <td>0.6</td>\n",
       "      <td>6.1</td>\n",
       "      <td>20.7</td>\n",
       "      <td>90.54</td>\n",
       "    </tr>\n",
       "    <tr>\n",
       "      <th>21910</th>\n",
       "      <td>Washington</td>\n",
       "      <td>2019-12-30</td>\n",
       "      <td>65.3</td>\n",
       "      <td>46.4</td>\n",
       "      <td>54.7</td>\n",
       "      <td>0.3</td>\n",
       "      <td>11.5</td>\n",
       "      <td>19.3</td>\n",
       "      <td>92.03</td>\n",
       "    </tr>\n",
       "    <tr>\n",
       "      <th>21911</th>\n",
       "      <td>Washington</td>\n",
       "      <td>2019-12-31</td>\n",
       "      <td>52.8</td>\n",
       "      <td>43.3</td>\n",
       "      <td>47.4</td>\n",
       "      <td>0.0</td>\n",
       "      <td>11.4</td>\n",
       "      <td>23.5</td>\n",
       "      <td>71.99</td>\n",
       "    </tr>\n",
       "  </tbody>\n",
       "</table>\n",
       "<p>21912 rows × 9 columns</p>\n",
       "</div>"
      ],
      "text/plain": [
       "         location        date  maxt  mint  temp  precip  wspd  cloudcover  \\\n",
       "0         Chicago  2010-01-01  18.1   7.8  12.6     0.0  16.0       262.4   \n",
       "1         Chicago  2010-01-02  12.4   4.8   8.5     0.0  17.5       260.0   \n",
       "2         Chicago  2010-01-03  18.9   4.1  11.8     0.0  15.9       262.0   \n",
       "3         Chicago  2010-01-04  18.6  10.3  14.7     0.0  14.8       263.6   \n",
       "4         Chicago  2010-01-05  23.3  16.6  18.9     0.0  13.9       265.9   \n",
       "...           ...         ...   ...   ...   ...     ...   ...         ...   \n",
       "21907  Washington  2019-12-27  52.7  39.5  45.3     0.0   8.3        19.2   \n",
       "21908  Washington  2019-12-28  64.4  37.8  49.4     0.0   7.5        16.9   \n",
       "21909  Washington  2019-12-29  52.8  46.6  49.7     0.6   6.1        20.7   \n",
       "21910  Washington  2019-12-30  65.3  46.4  54.7     0.3  11.5        19.3   \n",
       "21911  Washington  2019-12-31  52.8  43.3  47.4     0.0  11.4        23.5   \n",
       "\n",
       "       humidity  \n",
       "0         64.96  \n",
       "1         58.81  \n",
       "2         61.02  \n",
       "3         67.07  \n",
       "4         67.32  \n",
       "...         ...  \n",
       "21907     91.24  \n",
       "21908     79.89  \n",
       "21909     90.54  \n",
       "21910     92.03  \n",
       "21911     71.99  \n",
       "\n",
       "[21912 rows x 9 columns]"
      ]
     },
     "execution_count": 11,
     "metadata": {},
     "output_type": "execute_result"
    }
   ],
   "source": [
    "# Sort dataframe and reset index\n",
    "df = df.sort_values(['location', 'date'], ascending=[True, True]).reset_index(drop=True)\n",
    "df"
   ]
  },
  {
   "cell_type": "markdown",
   "metadata": {},
   "source": [
    "#### Create SQLite database from dataframe"
   ]
  },
  {
   "cell_type": "code",
   "execution_count": 12,
   "metadata": {},
   "outputs": [
    {
     "data": {
      "text/plain": [
       "RangeIndex(start=0, stop=21912, step=1, name='id')"
      ]
     },
     "execution_count": 12,
     "metadata": {},
     "output_type": "execute_result"
    }
   ],
   "source": [
    "# Name the index; needed for pandabase\n",
    "# Index must be named to be used as PK\n",
    "df.index.name = 'id'\n",
    "df.index"
   ]
  },
  {
   "cell_type": "code",
   "execution_count": 13,
   "metadata": {},
   "outputs": [
    {
     "data": {
      "text/html": [
       "<div>\n",
       "<style scoped>\n",
       "    .dataframe tbody tr th:only-of-type {\n",
       "        vertical-align: middle;\n",
       "    }\n",
       "\n",
       "    .dataframe tbody tr th {\n",
       "        vertical-align: top;\n",
       "    }\n",
       "\n",
       "    .dataframe thead th {\n",
       "        text-align: right;\n",
       "    }\n",
       "</style>\n",
       "<table border=\"1\" class=\"dataframe\">\n",
       "  <thead>\n",
       "    <tr style=\"text-align: right;\">\n",
       "      <th></th>\n",
       "      <th>location</th>\n",
       "      <th>date</th>\n",
       "      <th>maxt</th>\n",
       "      <th>mint</th>\n",
       "      <th>temp</th>\n",
       "      <th>precip</th>\n",
       "      <th>wspd</th>\n",
       "      <th>cloudcover</th>\n",
       "      <th>humidity</th>\n",
       "    </tr>\n",
       "    <tr>\n",
       "      <th>id</th>\n",
       "      <th></th>\n",
       "      <th></th>\n",
       "      <th></th>\n",
       "      <th></th>\n",
       "      <th></th>\n",
       "      <th></th>\n",
       "      <th></th>\n",
       "      <th></th>\n",
       "      <th></th>\n",
       "    </tr>\n",
       "  </thead>\n",
       "  <tbody>\n",
       "    <tr>\n",
       "      <th>0</th>\n",
       "      <td>Chicago</td>\n",
       "      <td>2010-01-01</td>\n",
       "      <td>18.1</td>\n",
       "      <td>7.8</td>\n",
       "      <td>12.6</td>\n",
       "      <td>0.0</td>\n",
       "      <td>16.0</td>\n",
       "      <td>262.4</td>\n",
       "      <td>64.96</td>\n",
       "    </tr>\n",
       "    <tr>\n",
       "      <th>1</th>\n",
       "      <td>Chicago</td>\n",
       "      <td>2010-01-02</td>\n",
       "      <td>12.4</td>\n",
       "      <td>4.8</td>\n",
       "      <td>8.5</td>\n",
       "      <td>0.0</td>\n",
       "      <td>17.5</td>\n",
       "      <td>260.0</td>\n",
       "      <td>58.81</td>\n",
       "    </tr>\n",
       "  </tbody>\n",
       "</table>\n",
       "</div>"
      ],
      "text/plain": [
       "   location        date  maxt  mint  temp  precip  wspd  cloudcover  humidity\n",
       "id                                                                           \n",
       "0   Chicago  2010-01-01  18.1   7.8  12.6     0.0  16.0       262.4     64.96\n",
       "1   Chicago  2010-01-02  12.4   4.8   8.5     0.0  17.5       260.0     58.81"
      ]
     },
     "execution_count": 13,
     "metadata": {},
     "output_type": "execute_result"
    }
   ],
   "source": [
    "df.head(2)"
   ]
  },
  {
   "cell_type": "code",
   "execution_count": 14,
   "metadata": {},
   "outputs": [],
   "source": [
    "# Set database variables\n",
    "db_conn = 'sqlite:///./Resources/weather_history.sqlite'\n",
    "sqlite_table = 'measurement'"
   ]
  },
  {
   "cell_type": "code",
   "execution_count": 15,
   "metadata": {},
   "outputs": [
    {
     "data": {
      "text/plain": [
       "Table('measurement', MetaData(bind=None), Column('id', Integer(), table=<measurement>, primary_key=True, nullable=False), Column('location', String(), table=<measurement>), Column('date', String(), table=<measurement>), Column('maxt', Float(), table=<measurement>), Column('mint', Float(), table=<measurement>), Column('temp', Float(), table=<measurement>), Column('precip', Float(), table=<measurement>), Column('wspd', Float(), table=<measurement>), Column('cloudcover', Float(), table=<measurement>), Column('humidity', Float(), table=<measurement>), schema=None)"
      ]
     },
     "execution_count": 15,
     "metadata": {},
     "output_type": "execute_result"
    }
   ],
   "source": [
    "# Run pandabase, create sqlite db and populate table\n",
    "pandabase.to_sql(df, table_name=sqlite_table, con=db_conn)"
   ]
  },
  {
   "cell_type": "markdown",
   "metadata": {},
   "source": [
    "#### Check the database with SQLAlchemy"
   ]
  },
  {
   "cell_type": "code",
   "execution_count": 16,
   "metadata": {},
   "outputs": [],
   "source": [
    "import sqlalchemy\n",
    "from sqlalchemy.ext.automap import automap_base\n",
    "from sqlalchemy.orm import Session\n",
    "from sqlalchemy import create_engine, func"
   ]
  },
  {
   "cell_type": "code",
   "execution_count": 17,
   "metadata": {},
   "outputs": [],
   "source": [
    "engine = create_engine(db_conn)"
   ]
  },
  {
   "cell_type": "code",
   "execution_count": 18,
   "metadata": {},
   "outputs": [],
   "source": [
    "# Reflect an existing database into a new model\n",
    "Base = automap_base()\n",
    "# reflect the tables\n",
    "Base.prepare(engine, reflect=True)"
   ]
  },
  {
   "cell_type": "code",
   "execution_count": 19,
   "metadata": {},
   "outputs": [
    {
     "data": {
      "text/plain": [
       "['measurement']"
      ]
     },
     "execution_count": 19,
     "metadata": {},
     "output_type": "execute_result"
    }
   ],
   "source": [
    "# We can view all of the classes that automap found\n",
    "Base.classes.keys()"
   ]
  },
  {
   "cell_type": "code",
   "execution_count": 20,
   "metadata": {},
   "outputs": [],
   "source": [
    "# Save references to each table\n",
    "Measurement = Base.classes.measurement"
   ]
  },
  {
   "cell_type": "markdown",
   "metadata": {},
   "source": [
    "#### Run some queries to test"
   ]
  },
  {
   "cell_type": "code",
   "execution_count": 21,
   "metadata": {},
   "outputs": [],
   "source": [
    "# Create our session (link) from Python to the DB\n",
    "session = Session(engine)"
   ]
  },
  {
   "cell_type": "code",
   "execution_count": 22,
   "metadata": {},
   "outputs": [
    {
     "data": {
      "text/plain": [
       "['maxt',\n",
       " 'id',\n",
       " 'temp',\n",
       " 'wspd',\n",
       " 'humidity',\n",
       " 'location',\n",
       " 'mint',\n",
       " 'date',\n",
       " 'precip',\n",
       " 'cloudcover']"
      ]
     },
     "execution_count": 22,
     "metadata": {},
     "output_type": "execute_result"
    }
   ],
   "source": [
    "list(session.query(Measurement).first().__dict__.keys())[1:]"
   ]
  },
  {
   "cell_type": "code",
   "execution_count": 23,
   "metadata": {},
   "outputs": [
    {
     "name": "stdout",
     "output_type": "stream",
     "text": [
      "[('Chicago',), ('Indianapolis',), ('Las Vegas',), ('Los Angeles',), ('New York City',), ('Washington',)]\n"
     ]
    }
   ],
   "source": [
    "locs = session.query(Measurement.location).distinct().all()\n",
    "print(locs)"
   ]
  },
  {
   "cell_type": "code",
   "execution_count": 24,
   "metadata": {},
   "outputs": [
    {
     "data": {
      "text/plain": [
       "['Chicago',\n",
       " 'Indianapolis',\n",
       " 'Las Vegas',\n",
       " 'Los Angeles',\n",
       " 'New York City',\n",
       " 'Washington']"
      ]
     },
     "execution_count": 24,
     "metadata": {},
     "output_type": "execute_result"
    }
   ],
   "source": [
    "[r.location for r in session.query(Measurement.location).distinct()]"
   ]
  },
  {
   "cell_type": "code",
   "execution_count": 25,
   "metadata": {},
   "outputs": [
    {
     "name": "stdout",
     "output_type": "stream",
     "text": [
      "[('New York City', '2015-06-12', 81.3), ('New York City', '2015-06-13', 80.3), ('New York City', '2015-06-14', 77.0), ('New York City', '2015-06-15', 70.0), ('New York City', '2015-06-16', 71.0), ('New York City', '2015-06-17', 72.4), ('New York City', '2015-06-18', 66.8)]\n"
     ]
    }
   ],
   "source": [
    "res = session.query(Measurement.location, Measurement.date, Measurement.temp).\\\n",
    "            filter(Measurement.location == 'New York City').\\\n",
    "            filter(Measurement.date >= '2015-06-12').\\\n",
    "            filter(Measurement.date <= '2015-06-18').\\\n",
    "            order_by(Measurement.date).all()\n",
    "print(res)"
   ]
  },
  {
   "cell_type": "code",
   "execution_count": 26,
   "metadata": {},
   "outputs": [
    {
     "data": {
      "text/plain": [
       "array(['2010-01-01', '2010-01-02', '2010-01-03', ..., '2019-12-29',\n",
       "       '2019-12-30', '2019-12-31'], dtype='<U10')"
      ]
     },
     "execution_count": 26,
     "metadata": {},
     "output_type": "execute_result"
    }
   ],
   "source": [
    "date_list = np.ravel(session.query(Measurement.date).all())\n",
    "date_list"
   ]
  },
  {
   "cell_type": "code",
   "execution_count": null,
   "metadata": {},
   "outputs": [],
   "source": [
    "session.close()"
   ]
  }
 ],
 "metadata": {
  "kernelspec": {
   "display_name": "Python 3",
   "language": "python",
   "name": "python3"
  },
  "language_info": {
   "codemirror_mode": {
    "name": "ipython",
    "version": 3
   },
   "file_extension": ".py",
   "mimetype": "text/x-python",
   "name": "python",
   "nbconvert_exporter": "python",
   "pygments_lexer": "ipython3",
   "version": "3.7.6"
  }
 },
 "nbformat": 4,
 "nbformat_minor": 4
}
